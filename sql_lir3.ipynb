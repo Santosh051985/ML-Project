{
 "cells": [
  {
   "cell_type": "code",
   "execution_count": 11,
   "metadata": {},
   "outputs": [
    {
     "name": "stdout",
     "output_type": "stream",
     "text": [
      "[(1,)]\n",
      "[(\"Dan Clarke's GFG Detective Agency\", 'Sean Simpsons', 1987)]\n"
     ]
    }
   ],
   "source": [
    "import sqlite3 \n",
    "  \n",
    "# Connection with the DataBase ##\n",
    "# 'library.db' \n",
    "connection = sqlite3.connect(\"Python_DB_one.db\") \n",
    "cursor = connection.cursor() \n",
    "  \n",
    "# SQL piece of code Executed \n",
    "# SQL piece of code Executed \n",
    "cursor.executescript(\"\"\" \n",
    "    CREATE TABLE people( \n",
    "        firstname, \n",
    "        lastname, \n",
    "        age \n",
    "    ); \n",
    "   \n",
    "    CREATE TABLE book( \n",
    "        title, \n",
    "        author, \n",
    "        published \n",
    "    ); \n",
    "   \n",
    "    INSERT INTO \n",
    "    book(title, author, published) \n",
    "    VALUES ( \n",
    "        'Dan Clarke''s GFG Detective Agency', \n",
    "        'Sean Simpsons', \n",
    "        1987 \n",
    "    ); \n",
    "    \"\"\") \n",
    "  \n",
    "sql = \"\"\" \n",
    "SELECT COUNT(*) FROM book;\"\"\"\n",
    "  \n",
    "cursor.execute(sql) \n",
    "  \n",
    "# The output in fetched and returned \n",
    "# as a List by fetchall() \n",
    "result = cursor.fetchall() \n",
    "print(result) \n",
    "  \n",
    "sql = \"\"\" \n",
    "SELECT * FROM book;\"\"\"\n",
    "  \n",
    "cursor.execute(sql) \n",
    "  \n",
    "result = cursor.fetchall() \n",
    "print(result) \n",
    "  \n",
    "# Changes saved into database \n",
    "connection.commit() \n",
    "# Connection closed(broken)  \n",
    "# with DataBase \n",
    "connection.close() "
   ]
  },
  {
   "cell_type": "code",
   "execution_count": 19,
   "metadata": {},
   "outputs": [
    {
     "ename": "OperationalError",
     "evalue": "table employee_List already exists",
     "output_type": "error",
     "traceback": [
      "\u001b[1;31m---------------------------------------------------------------------------\u001b[0m",
      "\u001b[1;31mOperationalError\u001b[0m                          Traceback (most recent call last)",
      "\u001b[1;32m<ipython-input-19-31ae2ccb4924>\u001b[0m in \u001b[0;36m<module>\u001b[1;34m\u001b[0m\n\u001b[0;32m     14\u001b[0m         \u001b[0mgender\u001b[0m \u001b[0mCHAR\u001b[0m\u001b[1;33m(\u001b[0m\u001b[1;36m1\u001b[0m\u001b[1;33m)\u001b[0m\u001b[1;33m,\u001b[0m\u001b[1;33m\u001b[0m\u001b[1;33m\u001b[0m\u001b[0m\n\u001b[0;32m     15\u001b[0m         dob DATE);\"\"\"\n\u001b[1;32m---> 16\u001b[1;33m \u001b[0mcursor\u001b[0m\u001b[1;33m.\u001b[0m\u001b[0mexecute\u001b[0m\u001b[1;33m(\u001b[0m\u001b[0msql\u001b[0m\u001b[1;33m)\u001b[0m\u001b[1;33m\u001b[0m\u001b[1;33m\u001b[0m\u001b[0m\n\u001b[0m\u001b[0;32m     17\u001b[0m \u001b[1;33m\u001b[0m\u001b[0m\n\u001b[0;32m     18\u001b[0m \u001b[1;31m# Single Tuple inserted\u001b[0m\u001b[1;33m\u001b[0m\u001b[1;33m\u001b[0m\u001b[1;33m\u001b[0m\u001b[0m\n",
      "\u001b[1;31mOperationalError\u001b[0m: table employee_List already exists"
     ]
    }
   ],
   "source": [
    "import sqlite3 \n",
    "  \n",
    "# Connection created with the \n",
    "# database using sqlite3.connect() \n",
    "connection = sqlite3.connect(\"Python_DB_one.db\") \n",
    "cursor = connection.cursor() \n",
    "  \n",
    "# Create Table command executed \n",
    "sql = \"\"\" \n",
    "        CREATE TABLE employee_List (  \n",
    "        ID INTEGER PRIMARY KEY,  \n",
    "        fname VARCHAR(20),  \n",
    "        lname VARCHAR(30),  \n",
    "        gender CHAR(1),  \n",
    "        dob DATE);\"\"\"\n",
    "cursor.execute(sql) \n",
    "  \n",
    "# Single Tuple inserted \n",
    "sql = \"\"\" \n",
    "        INSERT INTO employee_List \n",
    "        VALUES (1007, \"Will\", \"Olsen\", \"M\", \"24-SEP-1865\");\"\"\"\n",
    "cursor.execute(sql) \n",
    "  \n",
    "# Multiple Rows inserted \n",
    "List = [(1008, 'Raju', 'Boss', 'M', \"27-NOV-1874\"), \n",
    "        (1198, 'Sakib', 'Rose', 'F', \"27-DEC-1884\"), \n",
    "        (1918, 'Royal', 'Bassen', \"F\", \"17-NOV-1894\")] \n",
    "  \n",
    "connection. executemany( \n",
    "        \"INSERT INTO employee_List VALUES (?, ?, ?, ?, ?);\", List) \n",
    "print(\"Method-1 \\n\") \n",
    "  \n",
    "# Multiple Rows fetched from \n",
    "# the Database \n",
    "for row in connection.execute('SELECT * FROM employee_List ORDER BY ID'): \n",
    "        print (row) \n",
    "  \n",
    "\n",
    "\n",
    "  \n",
    "connection.commit() \n",
    "connection.close() "
   ]
  },
  {
   "cell_type": "code",
   "execution_count": null,
   "metadata": {},
   "outputs": [],
   "source": []
  }
 ],
 "metadata": {
  "kernelspec": {
   "display_name": "Python 3",
   "language": "python",
   "name": "python3"
  },
  "language_info": {
   "codemirror_mode": {
    "name": "ipython",
    "version": 3
   },
   "file_extension": ".py",
   "mimetype": "text/x-python",
   "name": "python",
   "nbconvert_exporter": "python",
   "pygments_lexer": "ipython3",
   "version": "3.7.4"
  }
 },
 "nbformat": 4,
 "nbformat_minor": 2
}
