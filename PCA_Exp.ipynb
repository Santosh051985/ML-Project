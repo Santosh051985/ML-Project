{
 "cells": [
  {
   "cell_type": "markdown",
   "metadata": {},
   "source": [
    "# principle Component Analysis"
   ]
  },
  {
   "cell_type": "code",
   "execution_count": 1,
   "metadata": {},
   "outputs": [],
   "source": [
    "import pandas as pd \n",
    "import numpy as np"
   ]
  },
  {
   "cell_type": "code",
   "execution_count": 2,
   "metadata": {},
   "outputs": [],
   "source": [
    "uni = pd.read_csv(\"C:\\\\Users\\\\HP\\\\Desktop\\\\Universities_Clustering.csv\")"
   ]
  },
  {
   "cell_type": "code",
   "execution_count": 3,
   "metadata": {},
   "outputs": [
    {
     "data": {
      "text/html": [
       "<div>\n",
       "<style scoped>\n",
       "    .dataframe tbody tr th:only-of-type {\n",
       "        vertical-align: middle;\n",
       "    }\n",
       "\n",
       "    .dataframe tbody tr th {\n",
       "        vertical-align: top;\n",
       "    }\n",
       "\n",
       "    .dataframe thead th {\n",
       "        text-align: right;\n",
       "    }\n",
       "</style>\n",
       "<table border=\"1\" class=\"dataframe\">\n",
       "  <thead>\n",
       "    <tr style=\"text-align: right;\">\n",
       "      <th></th>\n",
       "      <th>SAT</th>\n",
       "      <th>Top10</th>\n",
       "      <th>Accept</th>\n",
       "      <th>SFRatio</th>\n",
       "      <th>Expenses</th>\n",
       "      <th>GradRate</th>\n",
       "    </tr>\n",
       "  </thead>\n",
       "  <tbody>\n",
       "    <tr>\n",
       "      <td>count</td>\n",
       "      <td>25.000000</td>\n",
       "      <td>25.000000</td>\n",
       "      <td>25.000000</td>\n",
       "      <td>25.00000</td>\n",
       "      <td>25.000000</td>\n",
       "      <td>25.000000</td>\n",
       "    </tr>\n",
       "    <tr>\n",
       "      <td>mean</td>\n",
       "      <td>1266.440000</td>\n",
       "      <td>76.480000</td>\n",
       "      <td>39.200000</td>\n",
       "      <td>12.72000</td>\n",
       "      <td>27388.000000</td>\n",
       "      <td>86.720000</td>\n",
       "    </tr>\n",
       "    <tr>\n",
       "      <td>std</td>\n",
       "      <td>108.359771</td>\n",
       "      <td>19.433905</td>\n",
       "      <td>19.727308</td>\n",
       "      <td>4.06735</td>\n",
       "      <td>14424.883165</td>\n",
       "      <td>9.057778</td>\n",
       "    </tr>\n",
       "    <tr>\n",
       "      <td>min</td>\n",
       "      <td>1005.000000</td>\n",
       "      <td>28.000000</td>\n",
       "      <td>14.000000</td>\n",
       "      <td>6.00000</td>\n",
       "      <td>8704.000000</td>\n",
       "      <td>67.000000</td>\n",
       "    </tr>\n",
       "    <tr>\n",
       "      <td>25%</td>\n",
       "      <td>1240.000000</td>\n",
       "      <td>74.000000</td>\n",
       "      <td>24.000000</td>\n",
       "      <td>11.00000</td>\n",
       "      <td>15140.000000</td>\n",
       "      <td>81.000000</td>\n",
       "    </tr>\n",
       "    <tr>\n",
       "      <td>50%</td>\n",
       "      <td>1285.000000</td>\n",
       "      <td>81.000000</td>\n",
       "      <td>36.000000</td>\n",
       "      <td>12.00000</td>\n",
       "      <td>27553.000000</td>\n",
       "      <td>90.000000</td>\n",
       "    </tr>\n",
       "    <tr>\n",
       "      <td>75%</td>\n",
       "      <td>1340.000000</td>\n",
       "      <td>90.000000</td>\n",
       "      <td>50.000000</td>\n",
       "      <td>14.00000</td>\n",
       "      <td>34870.000000</td>\n",
       "      <td>94.000000</td>\n",
       "    </tr>\n",
       "    <tr>\n",
       "      <td>max</td>\n",
       "      <td>1415.000000</td>\n",
       "      <td>100.000000</td>\n",
       "      <td>90.000000</td>\n",
       "      <td>25.00000</td>\n",
       "      <td>63575.000000</td>\n",
       "      <td>97.000000</td>\n",
       "    </tr>\n",
       "  </tbody>\n",
       "</table>\n",
       "</div>"
      ],
      "text/plain": [
       "               SAT       Top10     Accept   SFRatio      Expenses   GradRate\n",
       "count    25.000000   25.000000  25.000000  25.00000     25.000000  25.000000\n",
       "mean   1266.440000   76.480000  39.200000  12.72000  27388.000000  86.720000\n",
       "std     108.359771   19.433905  19.727308   4.06735  14424.883165   9.057778\n",
       "min    1005.000000   28.000000  14.000000   6.00000   8704.000000  67.000000\n",
       "25%    1240.000000   74.000000  24.000000  11.00000  15140.000000  81.000000\n",
       "50%    1285.000000   81.000000  36.000000  12.00000  27553.000000  90.000000\n",
       "75%    1340.000000   90.000000  50.000000  14.00000  34870.000000  94.000000\n",
       "max    1415.000000  100.000000  90.000000  25.00000  63575.000000  97.000000"
      ]
     },
     "execution_count": 3,
     "metadata": {},
     "output_type": "execute_result"
    }
   ],
   "source": [
    "uni.describe()"
   ]
  },
  {
   "cell_type": "code",
   "execution_count": 4,
   "metadata": {},
   "outputs": [
    {
     "name": "stdout",
     "output_type": "stream",
     "text": [
      "<class 'pandas.core.frame.DataFrame'>\n",
      "RangeIndex: 25 entries, 0 to 24\n",
      "Data columns (total 7 columns):\n",
      "Univ        25 non-null object\n",
      "SAT         25 non-null int64\n",
      "Top10       25 non-null int64\n",
      "Accept      25 non-null int64\n",
      "SFRatio     25 non-null int64\n",
      "Expenses    25 non-null int64\n",
      "GradRate    25 non-null int64\n",
      "dtypes: int64(6), object(1)\n",
      "memory usage: 1.5+ KB\n"
     ]
    }
   ],
   "source": [
    "uni.info()\n"
   ]
  },
  {
   "cell_type": "code",
   "execution_count": 5,
   "metadata": {},
   "outputs": [
    {
     "data": {
      "text/html": [
       "<div>\n",
       "<style scoped>\n",
       "    .dataframe tbody tr th:only-of-type {\n",
       "        vertical-align: middle;\n",
       "    }\n",
       "\n",
       "    .dataframe tbody tr th {\n",
       "        vertical-align: top;\n",
       "    }\n",
       "\n",
       "    .dataframe thead th {\n",
       "        text-align: right;\n",
       "    }\n",
       "</style>\n",
       "<table border=\"1\" class=\"dataframe\">\n",
       "  <thead>\n",
       "    <tr style=\"text-align: right;\">\n",
       "      <th></th>\n",
       "      <th>Univ</th>\n",
       "      <th>SAT</th>\n",
       "      <th>Top10</th>\n",
       "      <th>Accept</th>\n",
       "      <th>SFRatio</th>\n",
       "      <th>Expenses</th>\n",
       "      <th>GradRate</th>\n",
       "    </tr>\n",
       "  </thead>\n",
       "  <tbody>\n",
       "    <tr>\n",
       "      <td>0</td>\n",
       "      <td>Brown</td>\n",
       "      <td>1310</td>\n",
       "      <td>89</td>\n",
       "      <td>22</td>\n",
       "      <td>13</td>\n",
       "      <td>22704</td>\n",
       "      <td>94</td>\n",
       "    </tr>\n",
       "    <tr>\n",
       "      <td>1</td>\n",
       "      <td>CalTech</td>\n",
       "      <td>1415</td>\n",
       "      <td>100</td>\n",
       "      <td>25</td>\n",
       "      <td>6</td>\n",
       "      <td>63575</td>\n",
       "      <td>81</td>\n",
       "    </tr>\n",
       "    <tr>\n",
       "      <td>2</td>\n",
       "      <td>CMU</td>\n",
       "      <td>1260</td>\n",
       "      <td>62</td>\n",
       "      <td>59</td>\n",
       "      <td>9</td>\n",
       "      <td>25026</td>\n",
       "      <td>72</td>\n",
       "    </tr>\n",
       "    <tr>\n",
       "      <td>3</td>\n",
       "      <td>Columbia</td>\n",
       "      <td>1310</td>\n",
       "      <td>76</td>\n",
       "      <td>24</td>\n",
       "      <td>12</td>\n",
       "      <td>31510</td>\n",
       "      <td>88</td>\n",
       "    </tr>\n",
       "    <tr>\n",
       "      <td>4</td>\n",
       "      <td>Cornell</td>\n",
       "      <td>1280</td>\n",
       "      <td>83</td>\n",
       "      <td>33</td>\n",
       "      <td>13</td>\n",
       "      <td>21864</td>\n",
       "      <td>90</td>\n",
       "    </tr>\n",
       "  </tbody>\n",
       "</table>\n",
       "</div>"
      ],
      "text/plain": [
       "       Univ   SAT  Top10  Accept  SFRatio  Expenses  GradRate\n",
       "0     Brown  1310     89      22       13     22704        94\n",
       "1   CalTech  1415    100      25        6     63575        81\n",
       "2       CMU  1260     62      59        9     25026        72\n",
       "3  Columbia  1310     76      24       12     31510        88\n",
       "4   Cornell  1280     83      33       13     21864        90"
      ]
     },
     "execution_count": 5,
     "metadata": {},
     "output_type": "execute_result"
    }
   ],
   "source": [
    "uni.head()"
   ]
  },
  {
   "cell_type": "code",
   "execution_count": 6,
   "metadata": {},
   "outputs": [],
   "source": [
    "from sklearn.decomposition import PCA\n",
    "import matplotlib.pyplot as plt\n",
    "from sklearn.preprocessing import scale "
   ]
  },
  {
   "cell_type": "code",
   "execution_count": 7,
   "metadata": {},
   "outputs": [
    {
     "name": "stderr",
     "output_type": "stream",
     "text": [
      "C:\\Users\\HP\\Anaconda3\\lib\\site-packages\\ipykernel_launcher.py:2: FutureWarning: \n",
      ".ix is deprecated. Please use\n",
      ".loc for label based indexing or\n",
      ".iloc for positional indexing\n",
      "\n",
      "See the documentation here:\n",
      "http://pandas.pydata.org/pandas-docs/stable/user_guide/indexing.html#ix-indexer-is-deprecated\n",
      "  \n",
      "C:\\Users\\HP\\Anaconda3\\lib\\site-packages\\pandas\\core\\indexing.py:822: FutureWarning: \n",
      ".ix is deprecated. Please use\n",
      ".loc for label based indexing or\n",
      ".iloc for positional indexing\n",
      "\n",
      "See the documentation here:\n",
      "http://pandas.pydata.org/pandas-docs/stable/user_guide/indexing.html#ix-indexer-is-deprecated\n",
      "  retval = getattr(retval, self.name)._getitem_axis(key, axis=i)\n",
      "C:\\Users\\HP\\Anaconda3\\lib\\site-packages\\ipykernel_launcher.py:2: UserWarning: Pandas doesn't allow columns to be created via a new attribute name - see https://pandas.pydata.org/pandas-docs/stable/indexing.html#attribute-access\n",
      "  \n"
     ]
    },
    {
     "data": {
      "text/html": [
       "<div>\n",
       "<style scoped>\n",
       "    .dataframe tbody tr th:only-of-type {\n",
       "        vertical-align: middle;\n",
       "    }\n",
       "\n",
       "    .dataframe tbody tr th {\n",
       "        vertical-align: top;\n",
       "    }\n",
       "\n",
       "    .dataframe thead th {\n",
       "        text-align: right;\n",
       "    }\n",
       "</style>\n",
       "<table border=\"1\" class=\"dataframe\">\n",
       "  <thead>\n",
       "    <tr style=\"text-align: right;\">\n",
       "      <th></th>\n",
       "      <th>SAT</th>\n",
       "      <th>Top10</th>\n",
       "      <th>Accept</th>\n",
       "      <th>SFRatio</th>\n",
       "      <th>Expenses</th>\n",
       "      <th>GradRate</th>\n",
       "    </tr>\n",
       "  </thead>\n",
       "  <tbody>\n",
       "    <tr>\n",
       "      <td>0</td>\n",
       "      <td>1310</td>\n",
       "      <td>89</td>\n",
       "      <td>22</td>\n",
       "      <td>13</td>\n",
       "      <td>22704</td>\n",
       "      <td>94</td>\n",
       "    </tr>\n",
       "    <tr>\n",
       "      <td>1</td>\n",
       "      <td>1415</td>\n",
       "      <td>100</td>\n",
       "      <td>25</td>\n",
       "      <td>6</td>\n",
       "      <td>63575</td>\n",
       "      <td>81</td>\n",
       "    </tr>\n",
       "    <tr>\n",
       "      <td>2</td>\n",
       "      <td>1260</td>\n",
       "      <td>62</td>\n",
       "      <td>59</td>\n",
       "      <td>9</td>\n",
       "      <td>25026</td>\n",
       "      <td>72</td>\n",
       "    </tr>\n",
       "    <tr>\n",
       "      <td>3</td>\n",
       "      <td>1310</td>\n",
       "      <td>76</td>\n",
       "      <td>24</td>\n",
       "      <td>12</td>\n",
       "      <td>31510</td>\n",
       "      <td>88</td>\n",
       "    </tr>\n",
       "    <tr>\n",
       "      <td>4</td>\n",
       "      <td>1280</td>\n",
       "      <td>83</td>\n",
       "      <td>33</td>\n",
       "      <td>13</td>\n",
       "      <td>21864</td>\n",
       "      <td>90</td>\n",
       "    </tr>\n",
       "  </tbody>\n",
       "</table>\n",
       "</div>"
      ],
      "text/plain": [
       "    SAT  Top10  Accept  SFRatio  Expenses  GradRate\n",
       "0  1310     89      22       13     22704        94\n",
       "1  1415    100      25        6     63575        81\n",
       "2  1260     62      59        9     25026        72\n",
       "3  1310     76      24       12     31510        88\n",
       "4  1280     83      33       13     21864        90"
      ]
     },
     "execution_count": 7,
     "metadata": {},
     "output_type": "execute_result"
    }
   ],
   "source": [
    "# Considering only numerical data \n",
    "uni.data = uni.ix[:,1:]\n",
    "uni.data.head()"
   ]
  },
  {
   "cell_type": "code",
   "execution_count": 8,
   "metadata": {},
   "outputs": [
    {
     "data": {
      "text/plain": [
       "array([[ 1310,    89,    22,    13, 22704,    94],\n",
       "       [ 1415,   100,    25,     6, 63575,    81],\n",
       "       [ 1260,    62,    59,     9, 25026,    72],\n",
       "       [ 1310,    76,    24,    12, 31510,    88],\n",
       "       [ 1280,    83,    33,    13, 21864,    90],\n",
       "       [ 1340,    89,    23,    10, 32162,    95],\n",
       "       [ 1315,    90,    30,    12, 31585,    95],\n",
       "       [ 1255,    74,    24,    12, 20126,    92],\n",
       "       [ 1400,    91,    14,    11, 39525,    97],\n",
       "       [ 1305,    75,    44,     7, 58691,    87],\n",
       "       [ 1380,    94,    30,    10, 34870,    91],\n",
       "       [ 1260,    85,    39,    11, 28052,    89],\n",
       "       [ 1255,    81,    42,    13, 15122,    94],\n",
       "       [ 1081,    38,    54,    18, 10185,    80],\n",
       "       [ 1375,    91,    14,     8, 30220,    95],\n",
       "       [ 1005,    28,    90,    19,  9066,    69],\n",
       "       [ 1360,    90,    20,    12, 36450,    93],\n",
       "       [ 1075,    49,    67,    25,  8704,    67],\n",
       "       [ 1240,    95,    40,    17, 15140,    78],\n",
       "       [ 1290,    75,    50,    13, 38380,    87],\n",
       "       [ 1180,    65,    68,    16, 15470,    85],\n",
       "       [ 1285,    80,    36,    11, 27553,    90],\n",
       "       [ 1225,    77,    44,    14, 13349,    92],\n",
       "       [ 1085,    40,    69,    15, 11857,    71],\n",
       "       [ 1375,    95,    19,    11, 43514,    96]], dtype=int64)"
      ]
     },
     "execution_count": 8,
     "metadata": {},
     "output_type": "execute_result"
    }
   ],
   "source": [
    "# Converting into numpy array\n",
    "UNI = uni.data.values\n",
    "UNI"
   ]
  },
  {
   "cell_type": "code",
   "execution_count": 11,
   "metadata": {},
   "outputs": [
    {
     "data": {
      "text/plain": [
       "array([[ 0.41028362,  0.6575195 , -0.88986682,  0.07026045, -0.33141256,\n",
       "         0.82030265],\n",
       "       [ 1.39925928,  1.23521235, -0.73465749, -1.68625071,  2.56038138,\n",
       "        -0.64452351],\n",
       "       [-0.06065717, -0.76045386,  1.02438157, -0.93346022, -0.16712136,\n",
       "        -1.65863393],\n",
       "       [ 0.41028362, -0.02520842, -0.78639393, -0.18066972,  0.29164871,\n",
       "         0.14422904],\n",
       "       [ 0.12771914,  0.34241431, -0.32076595,  0.07026045, -0.39084607,\n",
       "         0.36958691],\n",
       "       [ 0.69284809,  0.6575195 , -0.83813038, -0.68253005,  0.33778044,\n",
       "         0.93298158],\n",
       "       [ 0.4573777 ,  0.71003703, -0.47597528, -0.18066972,  0.29695528,\n",
       "         0.93298158],\n",
       "       [-0.10775125, -0.13024348, -0.78639393, -0.18066972, -0.51381683,\n",
       "         0.59494478],\n",
       "       [ 1.25797704,  0.76255456, -1.30375836, -0.43159988,  0.85874344,\n",
       "         1.15833946],\n",
       "       [ 0.36318954, -0.07772595,  0.24833493, -1.43532055,  2.21481798,\n",
       "         0.0315501 ],\n",
       "       [ 1.06960072,  0.92010716, -0.47597528, -0.68253005,  0.52938275,\n",
       "         0.48226584],\n",
       "       [-0.06065717,  0.44744937, -0.01034729, -0.43159988,  0.04698077,\n",
       "         0.25690797],\n",
       "       [-0.10775125,  0.23737924,  0.14486204,  0.07026045, -0.86787073,\n",
       "         0.82030265],\n",
       "       [-1.7466252 , -2.02087462,  0.76569936,  1.32491127, -1.21718409,\n",
       "        -0.75720245],\n",
       "       [ 1.02250664,  0.76255456, -1.30375836, -1.18439038,  0.20037583,\n",
       "         0.93298158],\n",
       "       [-2.46245521, -2.54604994,  2.6282113 ,  1.57584144, -1.29635802,\n",
       "        -1.99667073],\n",
       "       [ 0.88122441,  0.71003703, -0.9933397 , -0.18066972,  0.64117435,\n",
       "         0.70762371],\n",
       "       [-1.8031381 , -1.44318177,  1.43827311,  3.08142243, -1.32197103,\n",
       "        -2.22202861],\n",
       "       [-0.24903349,  0.97262469,  0.04138915,  1.07398111, -0.86659715,\n",
       "        -0.98256032],\n",
       "       [ 0.2219073 , -0.07772595,  0.55875358,  0.07026045,  0.77772991,\n",
       "         0.0315501 ],\n",
       "       [-0.81416244, -0.60290126,  1.49000956,  0.82305094, -0.84324827,\n",
       "        -0.19380777],\n",
       "       [ 0.17481322,  0.18486171, -0.16555662, -0.43159988,  0.01167444,\n",
       "         0.36958691],\n",
       "       [-0.39031573,  0.02730912,  0.24833493,  0.32119061, -0.99331788,\n",
       "         0.59494478],\n",
       "       [-1.70894994, -1.91583956,  1.541746  ,  0.57212078, -1.09888311,\n",
       "        -1.77131286],\n",
       "       [ 1.02250664,  0.97262469, -1.04507615, -0.43159988,  1.14098185,\n",
       "         1.04566052]])"
      ]
     },
     "execution_count": 11,
     "metadata": {},
     "output_type": "execute_result"
    }
   ],
   "source": [
    "# Normalizing the numerical data \n",
    "uni_normal = scale(UNI)\n",
    "uni_normal"
   ]
  },
  {
   "cell_type": "code",
   "execution_count": 10,
   "metadata": {},
   "outputs": [],
   "source": [
    "pca = PCA(n_components = 6)\n",
    "pca_values = pca.fit_transform(uni_normal)"
   ]
  },
  {
   "cell_type": "code",
   "execution_count": 12,
   "metadata": {},
   "outputs": [
    {
     "data": {
      "text/plain": [
       "array([-0.45774863, -0.42714437,  0.42430805,  0.39064831, -0.36252316,\n",
       "       -0.37940403])"
      ]
     },
     "execution_count": 12,
     "metadata": {},
     "output_type": "execute_result"
    }
   ],
   "source": [
    "# The amount of variance that each PCA explains is \n",
    "var = pca.explained_variance_ratio_\n",
    "var\n",
    "pca.components_[0]"
   ]
  },
  {
   "cell_type": "code",
   "execution_count": 13,
   "metadata": {},
   "outputs": [
    {
     "data": {
      "text/plain": [
       "array([ 76.87,  89.98,  94.76,  97.49,  99.56, 100.  ])"
      ]
     },
     "execution_count": 13,
     "metadata": {},
     "output_type": "execute_result"
    }
   ],
   "source": [
    "# Cumulative variance \n",
    "\n",
    "var1 = np.cumsum(np.round(var,decimals = 4)*100)\n",
    "var1"
   ]
  },
  {
   "cell_type": "code",
   "execution_count": 14,
   "metadata": {},
   "outputs": [
    {
     "data": {
      "text/plain": [
       "[<matplotlib.lines.Line2D at 0x15f8d422308>]"
      ]
     },
     "execution_count": 14,
     "metadata": {},
     "output_type": "execute_result"
    },
    {
     "data": {
      "image/png": "[encoded data removed]",
      "text/plain": [
       "<Figure size 432x288 with 1 Axes>"
      ]
     },
     "metadata": {
      "needs_background": "light"
     },
     "output_type": "display_data"
    }
   ],
   "source": [
    "# Variance plot for PCA components obtained \n",
    "plt.plot(var1,color=\"red\")"
   ]
  },
  {
   "cell_type": "code",
   "execution_count": null,
   "metadata": {},
   "outputs": [],
   "source": []
  }
 ],
 "metadata": {
  "kernelspec": {
   "display_name": "Python 3",
   "language": "python",
   "name": "python3"
  },
  "language_info": {
   "codemirror_mode": {
    "name": "ipython",
    "version": 3
   },
   "file_extension": ".py",
   "mimetype": "text/x-python",
   "name": "python",
   "nbconvert_exporter": "python",
   "pygments_lexer": "ipython3",
   "version": "3.7.4"
  }
 },
 "nbformat": 4,
 "nbformat_minor": 2
}
